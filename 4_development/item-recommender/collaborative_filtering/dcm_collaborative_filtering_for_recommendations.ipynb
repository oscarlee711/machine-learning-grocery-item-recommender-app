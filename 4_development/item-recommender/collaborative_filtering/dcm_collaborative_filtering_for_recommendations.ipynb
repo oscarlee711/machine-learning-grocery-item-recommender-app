{
  "nbformat": 4,
  "nbformat_minor": 0,
  "metadata": {
    "colab": {
      "provenance": [],
      "gpuType": "T4"
    },
    "kernelspec": {
      "name": "python3",
      "display_name": "Python 3"
    },
    "language_info": {
      "name": "python"
    },
    "accelerator": "GPU",
    "gpuClass": "standard"
  },
  "cells": [
    {
      "cell_type": "code",
      "source": [
        "!pip install mysql.connector"
      ],
      "metadata": {
        "id": "mUzWiZ2Ql235",
        "colab": {
          "base_uri": "https://localhost:8080/"
        },
        "outputId": "66b4d4a5-db3b-4749-8cb1-58278f41d60d"
      },
      "execution_count": 1,
      "outputs": [
        {
          "output_type": "stream",
          "name": "stdout",
          "text": [
            "Looking in indexes: https://pypi.org/simple, https://us-python.pkg.dev/colab-wheels/public/simple/\n",
            "Collecting mysql.connector\n",
            "  Downloading mysql-connector-2.2.9.tar.gz (11.9 MB)\n",
            "\u001b[2K     \u001b[90m━━━━━━━━━━━━━━━━━━━━━━━━━━━━━━━━━━━━━━━━\u001b[0m \u001b[32m11.9/11.9 MB\u001b[0m \u001b[31m99.8 MB/s\u001b[0m eta \u001b[36m0:00:00\u001b[0m\n",
            "\u001b[?25h  Preparing metadata (setup.py) ... \u001b[?25l\u001b[?25hdone\n",
            "Building wheels for collected packages: mysql.connector\n",
            "  Building wheel for mysql.connector (setup.py) ... \u001b[?25l\u001b[?25hdone\n",
            "  Created wheel for mysql.connector: filename=mysql_connector-2.2.9-cp310-cp310-linux_x86_64.whl size=247953 sha256=922facffc229e2e0fa8d18e791b07608e80443604cd691fce83aee23d423d15f\n",
            "  Stored in directory: /root/.cache/pip/wheels/76/48/9b/da67ff1a18fe8e9d428f9b1a177716d4a7d363d2bbe83bf6cf\n",
            "Successfully built mysql.connector\n",
            "Installing collected packages: mysql.connector\n",
            "Successfully installed mysql.connector-2.2.9\n"
          ]
        }
      ]
    },
    {
      "cell_type": "code",
      "source": [
        "import pandas as pd\n",
        "import numpy as np\n",
        "import tensorflow as tf\n",
        "from tensorflow import keras\n",
        "from tensorflow.keras import layers\n",
        "from pathlib import Path\n",
        "import matplotlib.pyplot as plt\n",
        "from keras.utils import plot_model\n",
        "\n",
        "import mysql.connector as msql\n",
        "from mysql.connector import Error"
      ],
      "metadata": {
        "id": "JsazxUoRlVZJ"
      },
      "execution_count": 2,
      "outputs": []
    },
    {
      "cell_type": "code",
      "source": [
        "# Connect to DiscountMate Database\n",
        "\n",
        "conn = msql.connect(host='34.129.54.95', \n",
        "                    user='oscar',\n",
        "                    password='p@ssword0501')\n",
        "\n",
        "cursor = conn.cursor()\n",
        "print(\"Database is connected\")\n",
        "cursor.execute(\"use dcmdb\")\n",
        "print(\"Connected to dcmdb\")"
      ],
      "metadata": {
        "id": "7-FgJlLGn9eJ"
      },
      "execution_count": 3,
      "outputs": []
    },
    {
      "cell_type": "code",
      "source": [
        "# Truncate ITEM_RATING table before recalculating item rating\n",
        "\n",
        "cursor.execute(\"TRUNCATE TABLE ITEM_RATING\")\n",
        "conn.commit()\n",
        "print(\"All records in ITEM_RATING table are deleted\")"
      ],
      "metadata": {
        "colab": {
          "base_uri": "https://localhost:8080/"
        },
        "id": "vqeP6fQ-oOvj",
        "outputId": "8db11718-3c0c-4e1c-955a-0560322461f5"
      },
      "execution_count": null,
      "outputs": [
        {
          "output_type": "stream",
          "name": "stdout",
          "text": [
            "All records in ITEM_RATING table are deleted\n"
          ]
        }
      ]
    },
    {
      "cell_type": "code",
      "source": [
        "# Recalculating ITEM_RATING table by the latest USER_ORDER records\n",
        "\n",
        "cursor.execute('''\n",
        "  INSERT INTO ITEM_RATING \n",
        "  SELECT \n",
        "  USER_ID,\n",
        "  ITEM_ID,\n",
        "  SUM(ORDER_ITEM_QTY) AS RATING\n",
        "  FROM USER_ORDER A \n",
        "  INNER JOIN ORDER_ITEM B\n",
        "  ON A.ORDER_ID = B.ORDER_ID\n",
        "  GROUP BY USER_ID, ITEM_ID\n",
        "  ORDER BY USER_ID, ITEM_ID\n",
        "  ''')\n",
        "conn.commit()\n",
        "print(\"ITEM_RATING table is reloaded\")"
      ],
      "metadata": {
        "colab": {
          "base_uri": "https://localhost:8080/"
        },
        "id": "0E0AYJSxsztC",
        "outputId": "be855df1-f43a-4349-af27-249d45d1cfa7"
      },
      "execution_count": null,
      "outputs": [
        {
          "output_type": "stream",
          "name": "stdout",
          "text": [
            "ITEM_RATING table is reloaded\n"
          ]
        }
      ]
    },
    {
      "cell_type": "code",
      "source": [
        "# Retrieve recalculated item rating result from database\n",
        "\n",
        "SQL_Query = pd.read_sql_query('''\n",
        "  SELECT \n",
        "  USER_ID,\n",
        "  ITEM_ID,\n",
        "  RATING\n",
        "  FROM ITEM_RATING\n",
        "''', conn)\n",
        "df = pd.DataFrame(SQL_Query)"
      ],
      "metadata": {
        "id": "-ooQJq1am1id",
        "colab": {
          "base_uri": "https://localhost:8080/"
        },
        "outputId": "2c79e730-e099-48f2-926b-7e7a9d7f530c"
      },
      "execution_count": 5,
      "outputs": [
        {
          "output_type": "stream",
          "name": "stderr",
          "text": [
            "<ipython-input-5-0d95de08e8e6>:1: UserWarning: pandas only supports SQLAlchemy connectable (engine/connection) or database string URI or sqlite3 DBAPI2 connection. Other DBAPI2 objects are not tested. Please consider using SQLAlchemy.\n",
            "  SQL_Query = pd.read_sql_query('''\n"
          ]
        }
      ]
    },
    {
      "cell_type": "code",
      "source": [
        "df.head()"
      ],
      "metadata": {
        "colab": {
          "base_uri": "https://localhost:8080/",
          "height": 206
        },
        "id": "kbLuwrXdtgLd",
        "outputId": "d9ce50be-d259-42ca-d2a5-7e55895643e3"
      },
      "execution_count": null,
      "outputs": [
        {
          "output_type": "execute_result",
          "data": {
            "text/plain": [
              "   USER_ID  ITEM_ID  RATING\n",
              "0     1000     5371       1\n",
              "1     1000     6753       1\n",
              "2     1000     7576       1\n",
              "3     1000    26955       2\n",
              "4     1000    32897       1"
            ],
            "text/html": [
              "\n",
              "  <div id=\"df-7e8b389d-1eca-4ea2-b7d9-4dd50be073c0\">\n",
              "    <div class=\"colab-df-container\">\n",
              "      <div>\n",
              "<style scoped>\n",
              "    .dataframe tbody tr th:only-of-type {\n",
              "        vertical-align: middle;\n",
              "    }\n",
              "\n",
              "    .dataframe tbody tr th {\n",
              "        vertical-align: top;\n",
              "    }\n",
              "\n",
              "    .dataframe thead th {\n",
              "        text-align: right;\n",
              "    }\n",
              "</style>\n",
              "<table border=\"1\" class=\"dataframe\">\n",
              "  <thead>\n",
              "    <tr style=\"text-align: right;\">\n",
              "      <th></th>\n",
              "      <th>USER_ID</th>\n",
              "      <th>ITEM_ID</th>\n",
              "      <th>RATING</th>\n",
              "    </tr>\n",
              "  </thead>\n",
              "  <tbody>\n",
              "    <tr>\n",
              "      <th>0</th>\n",
              "      <td>1000</td>\n",
              "      <td>5371</td>\n",
              "      <td>1</td>\n",
              "    </tr>\n",
              "    <tr>\n",
              "      <th>1</th>\n",
              "      <td>1000</td>\n",
              "      <td>6753</td>\n",
              "      <td>1</td>\n",
              "    </tr>\n",
              "    <tr>\n",
              "      <th>2</th>\n",
              "      <td>1000</td>\n",
              "      <td>7576</td>\n",
              "      <td>1</td>\n",
              "    </tr>\n",
              "    <tr>\n",
              "      <th>3</th>\n",
              "      <td>1000</td>\n",
              "      <td>26955</td>\n",
              "      <td>2</td>\n",
              "    </tr>\n",
              "    <tr>\n",
              "      <th>4</th>\n",
              "      <td>1000</td>\n",
              "      <td>32897</td>\n",
              "      <td>1</td>\n",
              "    </tr>\n",
              "  </tbody>\n",
              "</table>\n",
              "</div>\n",
              "      <button class=\"colab-df-convert\" onclick=\"convertToInteractive('df-7e8b389d-1eca-4ea2-b7d9-4dd50be073c0')\"\n",
              "              title=\"Convert this dataframe to an interactive table.\"\n",
              "              style=\"display:none;\">\n",
              "        \n",
              "  <svg xmlns=\"http://www.w3.org/2000/svg\" height=\"24px\"viewBox=\"0 0 24 24\"\n",
              "       width=\"24px\">\n",
              "    <path d=\"M0 0h24v24H0V0z\" fill=\"none\"/>\n",
              "    <path d=\"M18.56 5.44l.94 2.06.94-2.06 2.06-.94-2.06-.94-.94-2.06-.94 2.06-2.06.94zm-11 1L8.5 8.5l.94-2.06 2.06-.94-2.06-.94L8.5 2.5l-.94 2.06-2.06.94zm10 10l.94 2.06.94-2.06 2.06-.94-2.06-.94-.94-2.06-.94 2.06-2.06.94z\"/><path d=\"M17.41 7.96l-1.37-1.37c-.4-.4-.92-.59-1.43-.59-.52 0-1.04.2-1.43.59L10.3 9.45l-7.72 7.72c-.78.78-.78 2.05 0 2.83L4 21.41c.39.39.9.59 1.41.59.51 0 1.02-.2 1.41-.59l7.78-7.78 2.81-2.81c.8-.78.8-2.07 0-2.86zM5.41 20L4 18.59l7.72-7.72 1.47 1.35L5.41 20z\"/>\n",
              "  </svg>\n",
              "      </button>\n",
              "      \n",
              "  <style>\n",
              "    .colab-df-container {\n",
              "      display:flex;\n",
              "      flex-wrap:wrap;\n",
              "      gap: 12px;\n",
              "    }\n",
              "\n",
              "    .colab-df-convert {\n",
              "      background-color: #E8F0FE;\n",
              "      border: none;\n",
              "      border-radius: 50%;\n",
              "      cursor: pointer;\n",
              "      display: none;\n",
              "      fill: #1967D2;\n",
              "      height: 32px;\n",
              "      padding: 0 0 0 0;\n",
              "      width: 32px;\n",
              "    }\n",
              "\n",
              "    .colab-df-convert:hover {\n",
              "      background-color: #E2EBFA;\n",
              "      box-shadow: 0px 1px 2px rgba(60, 64, 67, 0.3), 0px 1px 3px 1px rgba(60, 64, 67, 0.15);\n",
              "      fill: #174EA6;\n",
              "    }\n",
              "\n",
              "    [theme=dark] .colab-df-convert {\n",
              "      background-color: #3B4455;\n",
              "      fill: #D2E3FC;\n",
              "    }\n",
              "\n",
              "    [theme=dark] .colab-df-convert:hover {\n",
              "      background-color: #434B5C;\n",
              "      box-shadow: 0px 1px 3px 1px rgba(0, 0, 0, 0.15);\n",
              "      filter: drop-shadow(0px 1px 2px rgba(0, 0, 0, 0.3));\n",
              "      fill: #FFFFFF;\n",
              "    }\n",
              "  </style>\n",
              "\n",
              "      <script>\n",
              "        const buttonEl =\n",
              "          document.querySelector('#df-7e8b389d-1eca-4ea2-b7d9-4dd50be073c0 button.colab-df-convert');\n",
              "        buttonEl.style.display =\n",
              "          google.colab.kernel.accessAllowed ? 'block' : 'none';\n",
              "\n",
              "        async function convertToInteractive(key) {\n",
              "          const element = document.querySelector('#df-7e8b389d-1eca-4ea2-b7d9-4dd50be073c0');\n",
              "          const dataTable =\n",
              "            await google.colab.kernel.invokeFunction('convertToInteractive',\n",
              "                                                     [key], {});\n",
              "          if (!dataTable) return;\n",
              "\n",
              "          const docLinkHtml = 'Like what you see? Visit the ' +\n",
              "            '<a target=\"_blank\" href=https://colab.research.google.com/notebooks/data_table.ipynb>data table notebook</a>'\n",
              "            + ' to learn more about interactive tables.';\n",
              "          element.innerHTML = '';\n",
              "          dataTable['output_type'] = 'display_data';\n",
              "          await google.colab.output.renderOutput(dataTable, element);\n",
              "          const docLink = document.createElement('div');\n",
              "          docLink.innerHTML = docLinkHtml;\n",
              "          element.appendChild(docLink);\n",
              "        }\n",
              "      </script>\n",
              "    </div>\n",
              "  </div>\n",
              "  "
            ]
          },
          "metadata": {},
          "execution_count": 9
        }
      ]
    },
    {
      "cell_type": "code",
      "source": [
        "# Preprocessing Data \n",
        "# Encode users and movies as integer indices\n",
        "\n",
        "# Get a list of User_Id\n",
        "user_ids = df[\"USER_ID\"].unique().tolist()\n",
        "\n",
        "# Assign sequential number to every User_Id for indexing \n",
        "user2user_encoded = {x: i for i, x in enumerate(user_ids)}\n",
        "\n",
        "# For each index number assign the corresponding User_Id\n",
        "userencoded2user = {i: x for i, x in enumerate(user_ids)}\n",
        "\n",
        "# Get a list of Item_Id\n",
        "item_ids = df[\"ITEM_ID\"].unique().tolist()\n",
        "\n",
        "# Assign sequential number to every Item_Id for indexing \n",
        "item2item_encoded = {x: i for i, x in enumerate(item_ids)}\n",
        "\n",
        "# For each index number assign the corresponding Item_Id\n",
        "item_encoded2item = {i: x for i, x in enumerate(item_ids)}\n",
        "\n",
        "# Create new columns for user_encoded and item_encoded\n",
        "df[\"user\"] = df[\"USER_ID\"].map(user2user_encoded)\n",
        "df[\"item\"] = df[\"ITEM_ID\"].map(item2item_encoded)"
      ],
      "metadata": {
        "id": "m-9Rm0xC-WGR"
      },
      "execution_count": 6,
      "outputs": []
    },
    {
      "cell_type": "code",
      "source": [
        "num_users = len(user2user_encoded)\n",
        "num_items = len(item_encoded2item)\n",
        "df[\"rating\"] = df[\"RATING\"].values.astype(np.float32)\n",
        "\n",
        "# min and max ratings will be used to normalize the ratings later\n",
        "min_rating = min(df[\"rating\"])\n",
        "max_rating = max(df[\"rating\"])\n",
        "\n",
        "print(\n",
        "    \"Number of users: {}, Number of Items: {}, Min rating: {}, Max rating: {}\".format(\n",
        "        num_users, num_items, min_rating, max_rating\n",
        "    )\n",
        ")"
      ],
      "metadata": {
        "colab": {
          "base_uri": "https://localhost:8080/"
        },
        "id": "5VlvxF2O-d0N",
        "outputId": "9013d634-225a-4753-cc16-e3786038dcee"
      },
      "execution_count": 7,
      "outputs": [
        {
          "output_type": "stream",
          "name": "stdout",
          "text": [
            "Number of users: 3898, Number of Items: 325, Min rating: 1.0, Max rating: 6.0\n"
          ]
        }
      ]
    },
    {
      "cell_type": "code",
      "source": [
        "# Prepare training and validation data\n",
        "\n",
        "# Selects all rows from the DataFrame df in a random order\n",
        "# Using a random seed of 42 to ensure the same order is obtained each time the code is run\n",
        "df = df.sample(frac=1, random_state=42)\n",
        "\n",
        "# Create an array for user with item\n",
        "x = df[[\"user\", \"item\"]].values\n",
        "\n",
        "# Normalize the targets between 0 and 1. Makes it easy to train.\n",
        "y = df[\"rating\"].apply(lambda x: (x - min_rating) / (max_rating - min_rating)).values\n",
        "\n",
        "# Assuming training on 90% of the data and validating on 10%.\n",
        "train_indices = int(0.9 * df.shape[0])\n",
        "\n",
        "# x_train = user, item. y_train = rating\n",
        "x_train, x_val, y_train, y_val = (\n",
        "    x[:train_indices],\n",
        "    x[train_indices:],\n",
        "    y[:train_indices],\n",
        "    y[train_indices:],\n",
        ")"
      ],
      "metadata": {
        "id": "yXmMJ9xIBeG6"
      },
      "execution_count": 8,
      "outputs": []
    },
    {
      "cell_type": "code",
      "source": [
        "# Create the model with embedding layer\n",
        "# Embedding layer is a layer specifically designed to learn and represent categorical or discrete input data in a continuous vector space. \n",
        "# It is used for text where each word or token is mapped to a dense vector representation, known as an embedding.\n",
        "# The embedding layer allows the model to learn meaningful representations that capture similarities and relationships between different categories.\n",
        "\n",
        "# Embed both users and items in to 50-dimensional vectors.\n",
        "# The model computes a match score between user and movie embeddings via a dot product, and adds a per-item and per-user bias. \n",
        "# The match score is scaled to the [0, 1] interval via a sigmoid, as our ratings are normalized to this range.\n",
        "\n",
        "EMBEDDING_SIZE = 50\n",
        "\n",
        "class discountmateRecommender(keras.Model):\n",
        "    def __init__(self, num_users, num_items, embedding_size, **kwargs):\n",
        "        super().__init__(**kwargs)\n",
        "        self.num_users = num_users\n",
        "        self.num_items = num_items\n",
        "        self.embedding_size = embedding_size\n",
        "        self.user_embedding = layers.Embedding(\n",
        "            num_users,\n",
        "            embedding_size,\n",
        "            embeddings_initializer=\"he_normal\",\n",
        "            embeddings_regularizer=keras.regularizers.l2(1e-6),\n",
        "        )\n",
        "        self.user_bias = layers.Embedding(num_users, 1)\n",
        "        self.item_embedding = layers.Embedding(\n",
        "            num_items,\n",
        "            embedding_size,\n",
        "            embeddings_initializer=\"he_normal\",\n",
        "            embeddings_regularizer=keras.regularizers.l2(1e-6),\n",
        "        )\n",
        "        self.item_bias = layers.Embedding(num_items, 1)\n",
        "\n",
        "    def call(self, inputs):\n",
        "        user_vector = self.user_embedding(inputs[:, 0])\n",
        "        user_bias = self.user_bias(inputs[:, 0])\n",
        "        item_vector = self.item_embedding(inputs[:, 1])\n",
        "        item_bias = self.item_bias(inputs[:, 1])\n",
        "        dot_user_item = tf.tensordot(user_vector, item_vector, 2)\n",
        "        # Add all the components (including bias)\n",
        "        x = dot_user_item + user_bias + item_bias\n",
        "        # The sigmoid activation forces the rating to between 0 and 1\n",
        "        return tf.nn.sigmoid(x)\n"
      ],
      "metadata": {
        "id": "PXVqBL9RCpRY"
      },
      "execution_count": 9,
      "outputs": []
    },
    {
      "cell_type": "code",
      "source": [
        "model = discountmateRecommender(num_users, num_items, EMBEDDING_SIZE)\n",
        "model.compile(\n",
        "    loss=tf.keras.losses.BinaryCrossentropy(),\n",
        "    optimizer=keras.optimizers.Adam(learning_rate=0.001),\n",
        ")"
      ],
      "metadata": {
        "id": "e4sEnjXgu3fb"
      },
      "execution_count": 10,
      "outputs": []
    },
    {
      "cell_type": "code",
      "source": [
        "# Train the model based on the data split\n",
        "\n",
        "history = model.fit(\n",
        "    x=x_train, # user and movie\n",
        "    y=y_train, # rating\n",
        "    batch_size=64,\n",
        "    epochs=5,\n",
        "    verbose=1,\n",
        "    validation_data=(x_val, y_val),\n",
        ")"
      ],
      "metadata": {
        "colab": {
          "base_uri": "https://localhost:8080/"
        },
        "id": "zSjcN9_MEIBp",
        "outputId": "b2518f7f-f034-47ac-8026-615e125add02"
      },
      "execution_count": 11,
      "outputs": [
        {
          "output_type": "stream",
          "name": "stdout",
          "text": [
            "Epoch 1/5\n",
            "466/466 [==============================] - 12s 15ms/step - loss: 0.4208 - val_loss: 0.1663\n",
            "Epoch 2/5\n",
            "466/466 [==============================] - 3s 7ms/step - loss: 0.1575 - val_loss: 0.1920\n",
            "Epoch 3/5\n",
            "466/466 [==============================] - 3s 6ms/step - loss: 0.1541 - val_loss: 0.1861\n",
            "Epoch 4/5\n",
            "466/466 [==============================] - 3s 6ms/step - loss: 0.1521 - val_loss: 0.1840\n",
            "Epoch 5/5\n",
            "466/466 [==============================] - 3s 5ms/step - loss: 0.1502 - val_loss: 0.1842\n"
          ]
        }
      ]
    },
    {
      "cell_type": "code",
      "source": [
        "# Store model fitting results in a variable\n",
        "\n",
        "model_history = history\n",
        "\n",
        "# Save  DataFrame for plotting chart\n",
        "\n",
        "model_history_df = pd.DataFrame(model_history.history) \n",
        "model_history_df"
      ],
      "metadata": {
        "colab": {
          "base_uri": "https://localhost:8080/",
          "height": 206
        },
        "id": "0MEZcCZvDHGn",
        "outputId": "13841aed-fb7f-4369-8b69-4dc166cae33e"
      },
      "execution_count": 13,
      "outputs": [
        {
          "output_type": "execute_result",
          "data": {
            "text/plain": [
              "       loss  val_loss\n",
              "0  0.420756  0.166313\n",
              "1  0.157456  0.191988\n",
              "2  0.154113  0.186116\n",
              "3  0.152095  0.183966\n",
              "4  0.150175  0.184194"
            ],
            "text/html": [
              "\n",
              "  <div id=\"df-0c0f6014-0700-4d6c-80f5-330caea146d1\">\n",
              "    <div class=\"colab-df-container\">\n",
              "      <div>\n",
              "<style scoped>\n",
              "    .dataframe tbody tr th:only-of-type {\n",
              "        vertical-align: middle;\n",
              "    }\n",
              "\n",
              "    .dataframe tbody tr th {\n",
              "        vertical-align: top;\n",
              "    }\n",
              "\n",
              "    .dataframe thead th {\n",
              "        text-align: right;\n",
              "    }\n",
              "</style>\n",
              "<table border=\"1\" class=\"dataframe\">\n",
              "  <thead>\n",
              "    <tr style=\"text-align: right;\">\n",
              "      <th></th>\n",
              "      <th>loss</th>\n",
              "      <th>val_loss</th>\n",
              "    </tr>\n",
              "  </thead>\n",
              "  <tbody>\n",
              "    <tr>\n",
              "      <th>0</th>\n",
              "      <td>0.420756</td>\n",
              "      <td>0.166313</td>\n",
              "    </tr>\n",
              "    <tr>\n",
              "      <th>1</th>\n",
              "      <td>0.157456</td>\n",
              "      <td>0.191988</td>\n",
              "    </tr>\n",
              "    <tr>\n",
              "      <th>2</th>\n",
              "      <td>0.154113</td>\n",
              "      <td>0.186116</td>\n",
              "    </tr>\n",
              "    <tr>\n",
              "      <th>3</th>\n",
              "      <td>0.152095</td>\n",
              "      <td>0.183966</td>\n",
              "    </tr>\n",
              "    <tr>\n",
              "      <th>4</th>\n",
              "      <td>0.150175</td>\n",
              "      <td>0.184194</td>\n",
              "    </tr>\n",
              "  </tbody>\n",
              "</table>\n",
              "</div>\n",
              "      <button class=\"colab-df-convert\" onclick=\"convertToInteractive('df-0c0f6014-0700-4d6c-80f5-330caea146d1')\"\n",
              "              title=\"Convert this dataframe to an interactive table.\"\n",
              "              style=\"display:none;\">\n",
              "        \n",
              "  <svg xmlns=\"http://www.w3.org/2000/svg\" height=\"24px\"viewBox=\"0 0 24 24\"\n",
              "       width=\"24px\">\n",
              "    <path d=\"M0 0h24v24H0V0z\" fill=\"none\"/>\n",
              "    <path d=\"M18.56 5.44l.94 2.06.94-2.06 2.06-.94-2.06-.94-.94-2.06-.94 2.06-2.06.94zm-11 1L8.5 8.5l.94-2.06 2.06-.94-2.06-.94L8.5 2.5l-.94 2.06-2.06.94zm10 10l.94 2.06.94-2.06 2.06-.94-2.06-.94-.94-2.06-.94 2.06-2.06.94z\"/><path d=\"M17.41 7.96l-1.37-1.37c-.4-.4-.92-.59-1.43-.59-.52 0-1.04.2-1.43.59L10.3 9.45l-7.72 7.72c-.78.78-.78 2.05 0 2.83L4 21.41c.39.39.9.59 1.41.59.51 0 1.02-.2 1.41-.59l7.78-7.78 2.81-2.81c.8-.78.8-2.07 0-2.86zM5.41 20L4 18.59l7.72-7.72 1.47 1.35L5.41 20z\"/>\n",
              "  </svg>\n",
              "      </button>\n",
              "      \n",
              "  <style>\n",
              "    .colab-df-container {\n",
              "      display:flex;\n",
              "      flex-wrap:wrap;\n",
              "      gap: 12px;\n",
              "    }\n",
              "\n",
              "    .colab-df-convert {\n",
              "      background-color: #E8F0FE;\n",
              "      border: none;\n",
              "      border-radius: 50%;\n",
              "      cursor: pointer;\n",
              "      display: none;\n",
              "      fill: #1967D2;\n",
              "      height: 32px;\n",
              "      padding: 0 0 0 0;\n",
              "      width: 32px;\n",
              "    }\n",
              "\n",
              "    .colab-df-convert:hover {\n",
              "      background-color: #E2EBFA;\n",
              "      box-shadow: 0px 1px 2px rgba(60, 64, 67, 0.3), 0px 1px 3px 1px rgba(60, 64, 67, 0.15);\n",
              "      fill: #174EA6;\n",
              "    }\n",
              "\n",
              "    [theme=dark] .colab-df-convert {\n",
              "      background-color: #3B4455;\n",
              "      fill: #D2E3FC;\n",
              "    }\n",
              "\n",
              "    [theme=dark] .colab-df-convert:hover {\n",
              "      background-color: #434B5C;\n",
              "      box-shadow: 0px 1px 3px 1px rgba(0, 0, 0, 0.15);\n",
              "      filter: drop-shadow(0px 1px 2px rgba(0, 0, 0, 0.3));\n",
              "      fill: #FFFFFF;\n",
              "    }\n",
              "  </style>\n",
              "\n",
              "      <script>\n",
              "        const buttonEl =\n",
              "          document.querySelector('#df-0c0f6014-0700-4d6c-80f5-330caea146d1 button.colab-df-convert');\n",
              "        buttonEl.style.display =\n",
              "          google.colab.kernel.accessAllowed ? 'block' : 'none';\n",
              "\n",
              "        async function convertToInteractive(key) {\n",
              "          const element = document.querySelector('#df-0c0f6014-0700-4d6c-80f5-330caea146d1');\n",
              "          const dataTable =\n",
              "            await google.colab.kernel.invokeFunction('convertToInteractive',\n",
              "                                                     [key], {});\n",
              "          if (!dataTable) return;\n",
              "\n",
              "          const docLinkHtml = 'Like what you see? Visit the ' +\n",
              "            '<a target=\"_blank\" href=https://colab.research.google.com/notebooks/data_table.ipynb>data table notebook</a>'\n",
              "            + ' to learn more about interactive tables.';\n",
              "          element.innerHTML = '';\n",
              "          dataTable['output_type'] = 'display_data';\n",
              "          await google.colab.output.renderOutput(dataTable, element);\n",
              "          const docLink = document.createElement('div');\n",
              "          docLink.innerHTML = docLinkHtml;\n",
              "          element.appendChild(docLink);\n",
              "        }\n",
              "      </script>\n",
              "    </div>\n",
              "  </div>\n",
              "  "
            ]
          },
          "metadata": {},
          "execution_count": 13
        }
      ]
    },
    {
      "cell_type": "code",
      "source": [
        "# Plot training and validation loss\n",
        "\n",
        "plt.plot(history.history[\"loss\"])\n",
        "plt.plot(history.history[\"val_loss\"])\n",
        "plt.title(\"model loss\")\n",
        "plt.ylabel(\"loss\")\n",
        "plt.xlabel(\"epoch\")\n",
        "plt.legend([\"train\", \"test\"], loc=\"upper left\")\n",
        "plt.show()"
      ],
      "metadata": {
        "colab": {
          "base_uri": "https://localhost:8080/",
          "height": 472
        },
        "id": "gNWJfKCpHKl7",
        "outputId": "d0ee05e7-f9ef-4fdf-b475-958f6874578d"
      },
      "execution_count": null,
      "outputs": [
        {
          "output_type": "display_data",
          "data": {
            "text/plain": [
              "<Figure size 640x480 with 1 Axes>"
            ],
            "image/png": "[encoded data removed]"
          },
          "metadata": {}
        }
      ]
    },
    {
      "cell_type": "code",
      "source": [
        "# Retrieve ITEM data from DiscountMate Database\n",
        "\n",
        "Load_Item_SQL_Query = pd.read_sql_query('''\n",
        "  SELECT \n",
        "  A.ITEM_ID,\n",
        "  A.ITEM_NAME,\n",
        "  B.CAT_NAME\n",
        "  FROM ITEM A\n",
        "  LEFT JOIN CATEGORY B\n",
        "  ON A.CAT_ID = B.CAT_ID\n",
        "''', conn)\n",
        "item_df = pd.DataFrame(Load_Item_SQL_Query)"
      ],
      "metadata": {
        "id": "P907VT6xv02D"
      },
      "execution_count": null,
      "outputs": []
    },
    {
      "cell_type": "code",
      "source": [
        "item_df.head()"
      ],
      "metadata": {
        "colab": {
          "base_uri": "https://localhost:8080/",
          "height": 206
        },
        "id": "NG3D5EUPHWUY",
        "outputId": "6d6e0af2-4094-47d2-f59c-a0f264aff819"
      },
      "execution_count": null,
      "outputs": [
        {
          "output_type": "execute_result",
          "data": {
            "text/plain": [
              "   ITEM_ID                                 ITEM_NAME              CAT_NAME\n",
              "0      844                Jagermeister Liqueur 700ml                Liquor\n",
              "1     1240           Yalumba Cask Wine Chardonnay 2l                Liquor\n",
              "2     1793  Connoisseur Ice Cream Cafe Grande 1l Tub               Freezer\n",
              "3     2108  Vittoria Ground Coffee Italian Blend 1kg                Drinks\n",
              "4     2205  Tasmanian Heritage Camembert Cheese 125g  Dairy, Eggs & Fridge"
            ],
            "text/html": [
              "\n",
              "  <div id=\"df-83f22c18-51de-430d-84c0-a4edb0fc5801\">\n",
              "    <div class=\"colab-df-container\">\n",
              "      <div>\n",
              "<style scoped>\n",
              "    .dataframe tbody tr th:only-of-type {\n",
              "        vertical-align: middle;\n",
              "    }\n",
              "\n",
              "    .dataframe tbody tr th {\n",
              "        vertical-align: top;\n",
              "    }\n",
              "\n",
              "    .dataframe thead th {\n",
              "        text-align: right;\n",
              "    }\n",
              "</style>\n",
              "<table border=\"1\" class=\"dataframe\">\n",
              "  <thead>\n",
              "    <tr style=\"text-align: right;\">\n",
              "      <th></th>\n",
              "      <th>ITEM_ID</th>\n",
              "      <th>ITEM_NAME</th>\n",
              "      <th>CAT_NAME</th>\n",
              "    </tr>\n",
              "  </thead>\n",
              "  <tbody>\n",
              "    <tr>\n",
              "      <th>0</th>\n",
              "      <td>844</td>\n",
              "      <td>Jagermeister Liqueur 700ml</td>\n",
              "      <td>Liquor</td>\n",
              "    </tr>\n",
              "    <tr>\n",
              "      <th>1</th>\n",
              "      <td>1240</td>\n",
              "      <td>Yalumba Cask Wine Chardonnay 2l</td>\n",
              "      <td>Liquor</td>\n",
              "    </tr>\n",
              "    <tr>\n",
              "      <th>2</th>\n",
              "      <td>1793</td>\n",
              "      <td>Connoisseur Ice Cream Cafe Grande 1l Tub</td>\n",
              "      <td>Freezer</td>\n",
              "    </tr>\n",
              "    <tr>\n",
              "      <th>3</th>\n",
              "      <td>2108</td>\n",
              "      <td>Vittoria Ground Coffee Italian Blend 1kg</td>\n",
              "      <td>Drinks</td>\n",
              "    </tr>\n",
              "    <tr>\n",
              "      <th>4</th>\n",
              "      <td>2205</td>\n",
              "      <td>Tasmanian Heritage Camembert Cheese 125g</td>\n",
              "      <td>Dairy, Eggs &amp; Fridge</td>\n",
              "    </tr>\n",
              "  </tbody>\n",
              "</table>\n",
              "</div>\n",
              "      <button class=\"colab-df-convert\" onclick=\"convertToInteractive('df-83f22c18-51de-430d-84c0-a4edb0fc5801')\"\n",
              "              title=\"Convert this dataframe to an interactive table.\"\n",
              "              style=\"display:none;\">\n",
              "        \n",
              "  <svg xmlns=\"http://www.w3.org/2000/svg\" height=\"24px\"viewBox=\"0 0 24 24\"\n",
              "       width=\"24px\">\n",
              "    <path d=\"M0 0h24v24H0V0z\" fill=\"none\"/>\n",
              "    <path d=\"M18.56 5.44l.94 2.06.94-2.06 2.06-.94-2.06-.94-.94-2.06-.94 2.06-2.06.94zm-11 1L8.5 8.5l.94-2.06 2.06-.94-2.06-.94L8.5 2.5l-.94 2.06-2.06.94zm10 10l.94 2.06.94-2.06 2.06-.94-2.06-.94-.94-2.06-.94 2.06-2.06.94z\"/><path d=\"M17.41 7.96l-1.37-1.37c-.4-.4-.92-.59-1.43-.59-.52 0-1.04.2-1.43.59L10.3 9.45l-7.72 7.72c-.78.78-.78 2.05 0 2.83L4 21.41c.39.39.9.59 1.41.59.51 0 1.02-.2 1.41-.59l7.78-7.78 2.81-2.81c.8-.78.8-2.07 0-2.86zM5.41 20L4 18.59l7.72-7.72 1.47 1.35L5.41 20z\"/>\n",
              "  </svg>\n",
              "      </button>\n",
              "      \n",
              "  <style>\n",
              "    .colab-df-container {\n",
              "      display:flex;\n",
              "      flex-wrap:wrap;\n",
              "      gap: 12px;\n",
              "    }\n",
              "\n",
              "    .colab-df-convert {\n",
              "      background-color: #E8F0FE;\n",
              "      border: none;\n",
              "      border-radius: 50%;\n",
              "      cursor: pointer;\n",
              "      display: none;\n",
              "      fill: #1967D2;\n",
              "      height: 32px;\n",
              "      padding: 0 0 0 0;\n",
              "      width: 32px;\n",
              "    }\n",
              "\n",
              "    .colab-df-convert:hover {\n",
              "      background-color: #E2EBFA;\n",
              "      box-shadow: 0px 1px 2px rgba(60, 64, 67, 0.3), 0px 1px 3px 1px rgba(60, 64, 67, 0.15);\n",
              "      fill: #174EA6;\n",
              "    }\n",
              "\n",
              "    [theme=dark] .colab-df-convert {\n",
              "      background-color: #3B4455;\n",
              "      fill: #D2E3FC;\n",
              "    }\n",
              "\n",
              "    [theme=dark] .colab-df-convert:hover {\n",
              "      background-color: #434B5C;\n",
              "      box-shadow: 0px 1px 3px 1px rgba(0, 0, 0, 0.15);\n",
              "      filter: drop-shadow(0px 1px 2px rgba(0, 0, 0, 0.3));\n",
              "      fill: #FFFFFF;\n",
              "    }\n",
              "  </style>\n",
              "\n",
              "      <script>\n",
              "        const buttonEl =\n",
              "          document.querySelector('#df-83f22c18-51de-430d-84c0-a4edb0fc5801 button.colab-df-convert');\n",
              "        buttonEl.style.display =\n",
              "          google.colab.kernel.accessAllowed ? 'block' : 'none';\n",
              "\n",
              "        async function convertToInteractive(key) {\n",
              "          const element = document.querySelector('#df-83f22c18-51de-430d-84c0-a4edb0fc5801');\n",
              "          const dataTable =\n",
              "            await google.colab.kernel.invokeFunction('convertToInteractive',\n",
              "                                                     [key], {});\n",
              "          if (!dataTable) return;\n",
              "\n",
              "          const docLinkHtml = 'Like what you see? Visit the ' +\n",
              "            '<a target=\"_blank\" href=https://colab.research.google.com/notebooks/data_table.ipynb>data table notebook</a>'\n",
              "            + ' to learn more about interactive tables.';\n",
              "          element.innerHTML = '';\n",
              "          dataTable['output_type'] = 'display_data';\n",
              "          await google.colab.output.renderOutput(dataTable, element);\n",
              "          const docLink = document.createElement('div');\n",
              "          docLink.innerHTML = docLinkHtml;\n",
              "          element.appendChild(docLink);\n",
              "        }\n",
              "      </script>\n",
              "    </div>\n",
              "  </div>\n",
              "  "
            ]
          },
          "metadata": {},
          "execution_count": 22
        }
      ]
    },
    {
      "cell_type": "code",
      "source": [
        "# Get one user and check the system recommendations\n",
        "\n",
        "user_id = df.USER_ID.sample(1).iloc[0]\n",
        "items_bought_by_user = df[df.USER_ID == user_id]\n",
        "items_not_bought = item_df[\n",
        "    ~item_df[\"ITEM_ID\"].isin(items_bought_by_user.ITEM_ID.values)\n",
        "][\"ITEM_ID\"]\n",
        "items_not_bought = list(\n",
        "    set(items_not_bought).intersection(set(item2item_encoded.keys()))\n",
        ")\n",
        "items_not_bought = [[item2item_encoded.get(x)] for x in items_not_bought]\n",
        "user_encoder = user2user_encoded.get(user_id)\n",
        "user_item_array = np.hstack(\n",
        "    ([[user_encoder]] * len(items_not_bought), items_not_bought)\n",
        ")\n",
        "ratings = model.predict(user_item_array).flatten()\n",
        "top_ratings_indices = ratings.argsort()[-10:][::-1]\n",
        "recommended_item_ids = [\n",
        "    item_encoded2item.get(items_not_bought[x][0]) for x in top_ratings_indices\n",
        "]"
      ],
      "metadata": {
        "id": "5abOr5W7HoaD",
        "colab": {
          "base_uri": "https://localhost:8080/"
        },
        "outputId": "9560fe98-fbfd-40ee-cbd0-fceda4732124"
      },
      "execution_count": null,
      "outputs": [
        {
          "output_type": "stream",
          "name": "stdout",
          "text": [
            "5/5 [==============================] - 0s 2ms/step\n"
          ]
        }
      ]
    },
    {
      "cell_type": "code",
      "source": [
        "print(\"Showing recommendations for user: {}\".format(user_id))\n",
        "print(\"====\" * 10)\n",
        "print(\"Items with high ratings from user\")\n",
        "print(\"----\" * 10)\n",
        "\n",
        "top_items_user = (\n",
        "    items_bought_by_user.sort_values(by=\"rating\", ascending=False)\n",
        "    .head(5)\n",
        "    .ITEM_ID.values\n",
        ")\n",
        "item_df_rows = item_df[item_df[\"ITEM_ID\"].isin(top_items_user)]\n",
        "for row in item_df_rows.itertuples():\n",
        "    print(\"Item: \", row.ITEM_NAME, \" | Category: \", row.CAT_NAME)"
      ],
      "metadata": {
        "colab": {
          "base_uri": "https://localhost:8080/"
        },
        "id": "Yc07jicwH6Nq",
        "outputId": "473c35bc-2bad-4429-d6dd-f7112cbf4aae"
      },
      "execution_count": null,
      "outputs": [
        {
          "output_type": "stream",
          "name": "stdout",
          "text": [
            "Showing recommendations for user: 2132\n",
            "========================================\n",
            "Items with high ratings from user\n",
            "----------------------------------------\n",
            "Item:  Yalumba Cask Wine Chardonnay 2l  | Category:  Liquor\n",
            "Item:  Dare No Added Sugar Double Espresso Iced Coffee 500ml  | Category:  Dairy, Eggs & Fridge\n",
            "Item:  Ingham's Roll Chicken 250g  | Category:  Meat, Seafood & Deli\n",
            "Item:  Ob Finest Sourdough Crispbread Natural 110g  | Category:  Meat, Seafood & Deli\n",
            "Item:  Gippsland Dairy Strawberry Waffle Yoghurt 140g  | Category:  Dairy, Eggs & Fridge\n"
          ]
        }
      ]
    },
    {
      "cell_type": "code",
      "source": [
        "print(\"----\" * 10)\n",
        "print(\"Top 10 item recommendations\")\n",
        "print(\"----\" * 10)\n",
        "recommended_items = item_df[item_df[\"ITEM_ID\"].isin(recommended_item_ids)]\n",
        "for row in recommended_items.itertuples():\n",
        "    print(\"Item: \", row.ITEM_NAME, \" | Category: \", row.CAT_NAME)"
      ],
      "metadata": {
        "colab": {
          "base_uri": "https://localhost:8080/"
        },
        "id": "D6Dt5XIVI0kw",
        "outputId": "9439b598-7226-4470-cd4a-11b796da67a6"
      },
      "execution_count": null,
      "outputs": [
        {
          "output_type": "stream",
          "name": "stdout",
          "text": [
            "----------------------------------------\n",
            "Top 10 item recommendations\n",
            "----------------------------------------\n",
            "Item:  Tasmanian Heritage Camembert Cheese 125g  | Category:  Dairy, Eggs & Fridge\n",
            "Item:  Golden Circle Fruit Drinks Lunch Box Poppers Multipack Golden Pash 250ml X6 Pack  | Category:  Drinks\n",
            "Item:  Devondale 100% Pure Full Cream Long Life Milk 1l  | Category:  Dairy, Eggs & Fridge\n",
            "Item:  Mccain Mixed Vegetables Peas Corn & Carrot 500g  | Category:  Freezer\n",
            "Item:  Pureharvest Organic Oat Milk 1l  | Category:  Dairy, Eggs & Fridge\n",
            "Item:  Woolworths Sweet Corn Fritters 200g  | Category:  Dairy, Eggs & Fridge\n",
            "Item:  Red Bull Energy Drink 4x250ml  | Category:  Drinks\n",
            "Item:  Western Star Spreadable Supersoft 375g  | Category:  Dairy, Eggs & Fridge\n",
            "Item:  Woolworths Lean Beef Mince 1kg  | Category:  Meat, Seafood & Deli\n",
            "Item:  Woolworths Spring Water 1.5l Bottle  | Category:  Drinks\n"
          ]
        }
      ]
    },
    {
      "cell_type": "code",
      "source": [
        "# Get another user and check the system recommendations\n",
        "\n",
        "user_id = df.USER_ID.sample(1).iloc[0]\n",
        "items_bought_by_user = df[df.USER_ID == user_id]\n",
        "items_not_bought = item_df[\n",
        "    ~item_df[\"ITEM_ID\"].isin(items_bought_by_user.ITEM_ID.values)\n",
        "][\"ITEM_ID\"]\n",
        "items_not_bought = list(\n",
        "    set(items_not_bought).intersection(set(item2item_encoded.keys()))\n",
        ")\n",
        "items_not_bought = [[item2item_encoded.get(x)] for x in items_not_bought]\n",
        "user_encoder = user2user_encoded.get(user_id)\n",
        "user_item_array = np.hstack(\n",
        "    ([[user_encoder]] * len(items_not_bought), items_not_bought)\n",
        ")\n",
        "ratings = model.predict(user_item_array).flatten()\n",
        "top_ratings_indices = ratings.argsort()[-10:][::-1]\n",
        "recommended_item_ids = [\n",
        "    item_encoded2item.get(items_not_bought[x][0]) for x in top_ratings_indices\n",
        "]\n",
        "\n",
        "print(\"Showing recommendations for user: {}\".format(user_id))\n",
        "print(\"====\" * 10)\n",
        "print(\"Items with high ratings from user\")\n",
        "print(\"----\" * 10)\n",
        "\n",
        "top_items_user = (\n",
        "    items_bought_by_user.sort_values(by=\"rating\", ascending=False)\n",
        "    .head(5)\n",
        "    .ITEM_ID.values\n",
        ")\n",
        "item_df_rows = item_df[item_df[\"ITEM_ID\"].isin(top_items_user)]\n",
        "for row in item_df_rows.itertuples():\n",
        "    print(\"Item: \", row.ITEM_NAME, \" | Category: \", row.CAT_NAME)\n",
        "\n",
        "print(\"----\" * 10)\n",
        "print(\"Top 10 item recommendations\")\n",
        "print(\"----\" * 10)\n",
        "recommended_items = item_df[item_df[\"ITEM_ID\"].isin(recommended_item_ids)]\n",
        "for row in recommended_items.itertuples():\n",
        "    print(\"Item: \", row.ITEM_NAME, \" | Category: \", row.CAT_NAME)"
      ],
      "metadata": {
        "colab": {
          "base_uri": "https://localhost:8080/"
        },
        "id": "fKZZ0G7osPNj",
        "outputId": "96dc1724-cb27-4dca-e21e-899438f30e68"
      },
      "execution_count": null,
      "outputs": [
        {
          "output_type": "stream",
          "name": "stdout",
          "text": [
            "5/5 [==============================] - 0s 3ms/step\n",
            "Showing recommendations for user: 3694\n",
            "========================================\n",
            "Items with high ratings from user\n",
            "----------------------------------------\n",
            "Item:  Golden Circle Fruit Drinks Lunch Box Poppers Multipack Golden Pash 250ml X6 Pack  | Category:  Drinks\n",
            "Item:  Ingham's Roll Chicken 250g  | Category:  Meat, Seafood & Deli\n",
            "Item:  The Domesticated Duck Chardonnay 750ml  | Category:  Liquor\n",
            "Item:  Hong Kong Dim Sim Kitchen Bbq Pork Buns 300g  | Category:  Freezer\n",
            "Item:  Jalna Biodynamic Whole Milk Yoghurt 1kg  | Category:  Dairy, Eggs & Fridge\n",
            "----------------------------------------\n",
            "Top 10 item recommendations\n",
            "----------------------------------------\n",
            "Item:  Tasmanian Heritage Camembert Cheese 125g  | Category:  Dairy, Eggs & Fridge\n",
            "Item:  Twinings English Breakfast Tea Bags 10 Pack  | Category:  Drinks\n",
            "Item:  Capsicum Green Each  | Category:  Fruit & Veg\n",
            "Item:  Onion Brown Each  | Category:  Fruit & Veg\n",
            "Item:  Woolworths Mushrooms Cups 500g Punnet  | Category:  Fruit & Veg\n",
            "Item:  Truss Tomatoes Each  | Category:  Fruit & Veg\n",
            "Item:  Potato White Washed Each  | Category:  Fruit & Veg\n",
            "Item:  Devondale Semi Skim Long Life Milk 1l  | Category:  Dairy, Eggs & Fridge\n",
            "Item:  Poulings Sliced Beef 290g  | Category:  Freezer\n",
            "Item:  D'orsogna Roast Chicken 320g  | Category:  Meat, Seafood & Deli\n"
          ]
        }
      ]
    },
    {
      "cell_type": "code",
      "source": [
        "# Insert system recommendations result to DiscountMate database RECOMMEND_ITEM_COLLAB_FILTER table\n",
        "\n",
        "for index, row in df.head(1).iterrows():\n",
        "  user_id = row['USER_ID']\n",
        "  items_watched_by_user = df[df.USER_ID == user_id]\n",
        "  items_not_bought = item_df[\n",
        "      ~item_df[\"ITEM_ID\"].isin(items_watched_by_user.ITEM_ID.values)\n",
        "  ][\"ITEM_ID\"]\n",
        "  items_not_bought = list(\n",
        "      set(items_not_bought).intersection(set(item2item_encoded.keys()))\n",
        "  )\n",
        "  items_not_bought = [[item2item_encoded.get(x)] for x in items_not_bought]\n",
        "  user_encoder = user2user_encoded.get(user_id)\n",
        "  user_item_array = np.hstack(\n",
        "      ([[user_encoder]] * len(items_not_bought), items_not_bought)\n",
        "  )\n",
        "  ratings = model.predict(user_item_array).flatten()\n",
        "  top_ratings_indices = ratings.argsort()[-10:][::-1]\n",
        "  recommended_item_ids = [\n",
        "      item_encoded2item.get(items_not_bought[x][0]) for x in top_ratings_indices\n",
        "  ]\n",
        "\n",
        "  recommended_items = item_df[item_df[\"ITEM_ID\"].isin(recommended_item_ids)]\n",
        "  for row in recommended_items.itertuples():\n",
        "      print(user_id, \" : \", row.ITEM_NAME, \":\", row.CAT_NAME)\n",
        "      RCM_USER_ID = str(user_id)\n",
        "      RCM_ITEM_ID = str(row.ITEM_ID)\n",
        "      cursor.execute(\"\"\"\n",
        "                      INSERT INTO RECOMMEND_ITEM_COLLAB_FILTER (\n",
        "                      RCM_USER_ID,\n",
        "                      RCM_ITEM_ID,\n",
        "                      RCM_COM_ID,\n",
        "                      RCM_INSERT_DATE\n",
        "                      )\n",
        "                      VALUES (\n",
        "                      \"\"\" + RCM_USER_ID + \"\"\",\n",
        "                      \"\"\" + RCM_ITEM_ID + \"\"\",\n",
        "                      1,\n",
        "                      CURDATE()                     \n",
        "                      )\n",
        "                      \"\"\")\n",
        "      print(\"Insert into RECOMMEND_ITEM_COLLAB_FILTER. USER_ID: \" + RCM_USER_ID + \" | ITEM_ID: \" + RCM_ITEM_ID)\n",
        "      conn.commit()"
      ],
      "metadata": {
        "colab": {
          "base_uri": "https://localhost:8080/"
        },
        "id": "ytzEV8PQJP4f",
        "outputId": "5e051a53-a559-4026-f623-35f270b49830"
      },
      "execution_count": null,
      "outputs": [
        {
          "output_type": "stream",
          "name": "stdout",
          "text": [
            "5/5 [==============================] - 0s 3ms/step\n",
            "2479.0  :  Golden Circle Fruit Drinks Lunch Box Poppers Multipack Golden Pash 250ml X6 Pack : Drinks\n",
            "Insert into RECOMMEND_ITEM_COLLAB_FILTER. USER_ID: 2479.0 | ITEM_ID: 7576\n",
            "2479.0  :  Twinings English Breakfast Tea Bags 10 Pack : Drinks\n",
            "Insert into RECOMMEND_ITEM_COLLAB_FILTER. USER_ID: 2479.0 | ITEM_ID: 41946\n",
            "2479.0  :  Mccain Mixed Vegetables Peas Corn & Carrot 500g : Freezer\n",
            "Insert into RECOMMEND_ITEM_COLLAB_FILTER. USER_ID: 2479.0 | ITEM_ID: 54233\n",
            "2479.0  :  Capsicum Green Each : Fruit & Veg\n",
            "Insert into RECOMMEND_ITEM_COLLAB_FILTER. USER_ID: 2479.0 | ITEM_ID: 135156\n",
            "2479.0  :  Woolworths Mushrooms Cups 500g Punnet : Fruit & Veg\n",
            "Insert into RECOMMEND_ITEM_COLLAB_FILTER. USER_ID: 2479.0 | ITEM_ID: 149963\n",
            "2479.0  :  Truss Tomatoes Each : Fruit & Veg\n",
            "Insert into RECOMMEND_ITEM_COLLAB_FILTER. USER_ID: 2479.0 | ITEM_ID: 169438\n",
            "2479.0  :  Potato White Washed Each : Fruit & Veg\n",
            "Insert into RECOMMEND_ITEM_COLLAB_FILTER. USER_ID: 2479.0 | ITEM_ID: 208895\n",
            "2479.0  :  Devondale Semi Skim Long Life Milk 1l : Dairy, Eggs & Fridge\n",
            "Insert into RECOMMEND_ITEM_COLLAB_FILTER. USER_ID: 2479.0 | ITEM_ID: 230367\n",
            "2479.0  :  Poulings Sliced Beef 290g : Freezer\n",
            "Insert into RECOMMEND_ITEM_COLLAB_FILTER. USER_ID: 2479.0 | ITEM_ID: 820208\n",
            "2479.0  :  D'orsogna Roast Chicken 320g : Meat, Seafood & Deli\n",
            "Insert into RECOMMEND_ITEM_COLLAB_FILTER. USER_ID: 2479.0 | ITEM_ID: 858574\n"
          ]
        }
      ]
    },
    {
      "cell_type": "code",
      "source": [
        "conn.close()\n",
        "print('Closed connection to DiscountMate database')"
      ],
      "metadata": {
        "colab": {
          "base_uri": "https://localhost:8080/"
        },
        "id": "x9mR2dqMNNRB",
        "outputId": "ba55594f-edff-443f-d320-7b1b26a03875"
      },
      "execution_count": null,
      "outputs": [
        {
          "output_type": "stream",
          "name": "stdout",
          "text": [
            "Closed connection to DiscountMate database\n"
          ]
        }
      ]
    }
  ]
}