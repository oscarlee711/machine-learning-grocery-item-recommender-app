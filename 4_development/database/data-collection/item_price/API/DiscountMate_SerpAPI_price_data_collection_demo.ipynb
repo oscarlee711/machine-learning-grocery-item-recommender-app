{
  "cells": [
    {
      "cell_type": "code",
      "execution_count": 2,
      "id": "c063115e",
      "metadata": {
        "id": "c063115e",
        "outputId": "7f9c1ceb-1d37-4107-9db8-d11e5b9bd390",
        "colab": {
          "base_uri": "https://localhost:8080/"
        }
      },
      "outputs": [
        {
          "output_type": "stream",
          "name": "stdout",
          "text": [
            "Looking in indexes: https://pypi.org/simple, https://us-python.pkg.dev/colab-wheels/public/simple/\n",
            "Requirement already satisfied: requests in /usr/local/lib/python3.10/dist-packages (2.27.1)\n",
            "Requirement already satisfied: urllib3<1.27,>=1.21.1 in /usr/local/lib/python3.10/dist-packages (from requests) (1.26.15)\n",
            "Requirement already satisfied: certifi>=2017.4.17 in /usr/local/lib/python3.10/dist-packages (from requests) (2022.12.7)\n",
            "Requirement already satisfied: charset-normalizer~=2.0.0 in /usr/local/lib/python3.10/dist-packages (from requests) (2.0.12)\n",
            "Requirement already satisfied: idna<4,>=2.5 in /usr/local/lib/python3.10/dist-packages (from requests) (3.4)\n"
          ]
        }
      ],
      "source": [
        "!pip install requests"
      ]
    },
    {
      "cell_type": "code",
      "execution_count": 3,
      "id": "bdf78994",
      "metadata": {
        "id": "bdf78994"
      },
      "outputs": [],
      "source": [
        "import requests\n",
        "\n",
        "# Define the fetch price function\n",
        "\n",
        "def fetch_prices(search_query):\n",
        "    api_key = 'f24ced1c49ca21f114b224bab53ab0541e61ad8be13136dae648481c43d46edf'  # Replace with your SerpApi API key\n",
        "    \n",
        "    try:\n",
        "        params = {\n",
        "            'q': search_query,\n",
        "            'api_key': api_key,\n",
        "            'engine': 'google',\n",
        "            'tbm': 'shop'  # Specify the type of search (e.g., shopping results)\n",
        "        }\n",
        "          \n",
        "        response = requests.get('https://serpapi.com/search', params=params)\n",
        "        data = response.json()\n",
        "        \n",
        "        # Extract the product names and prices from the response\n",
        "        results = []\n",
        "        for result in data['shopping_results']:\n",
        "            name = result['title']\n",
        "            price = result['price']\n",
        "            results.append({'name': name, 'price': price})\n",
        "        \n",
        "        return results\n",
        "    \n",
        "    except Exception as e:\n",
        "        print('Error fetching prices:', e)\n",
        "        return None"
      ]
    },
    {
      "cell_type": "code",
      "execution_count": 4,
      "id": "ba9794f9",
      "metadata": {
        "id": "ba9794f9"
      },
      "outputs": [],
      "source": [
        "# Input item name for search query and fetch the result\n",
        "\n",
        "search_query = 'mangoes'  # Item name you want to search for\n",
        "prices = fetch_prices(search_query)"
      ]
    },
    {
      "cell_type": "code",
      "source": [
        "# Print the price retrieval result\n",
        "\n",
        "if prices is not None:\n",
        "    for product in prices:\n",
        "        print('Product Name:', product['name'])\n",
        "        print('Price:', product['price'])\n",
        "        print('---')\n",
        "else:\n",
        "    print('Failed to fetch prices.')"
      ],
      "metadata": {
        "colab": {
          "base_uri": "https://localhost:8080/"
        },
        "id": "IUx0T8xqLFC1",
        "outputId": "65ff9a29-370d-4267-f338-355067cfe2ed"
      },
      "id": "IUx0T8xqLFC1",
      "execution_count": 7,
      "outputs": [
        {
          "output_type": "stream",
          "name": "stdout",
          "text": [
            "Product Name: Fresh Baby Green Mangos 2.2 lb Bag\n",
            "Price: $6.22\n",
            "---\n",
            "Product Name: Fresh Kent Mangoes (9 lbs)\n",
            "Price: $32.99\n",
            "---\n",
            "Product Name: Fresh Mango Fruit, Size: One Size\n",
            "Price: $0.99\n",
            "---\n",
            "Product Name: Fresh Produce Mangoes, 1 Each, Size: 1 lbs, Orange\n",
            "Price: $0.88\n",
            "---\n",
            "Product Name: Mango Fresh ( 5 kgs ie, 12-15 big size Mangos)\n",
            "Price: $40.50\n",
            "---\n",
            "Product Name: Tropical Mango Box - Order Your Fresh Tropical Mangos Online from Tropical Fruit Box\n",
            "Price: $88.00\n",
            "---\n",
            "Product Name: Fresh Champagne Mangoes (Golden Atulfo) - 5 Pounds\n",
            "Price: $36.95\n",
            "---\n",
            "Product Name: Del Monte Mangos, in Light Syrup, Diced - 15 oz\n",
            "Price: $3.95\n",
            "---\n",
            "Product Name: 8 Selected Sweet and Juicy Fresh Large Mango Fruit - 9 lb Pounds\n",
            "Price: $43.69\n",
            "---\n",
            "Product Name: GreatPlentiFulShop Fresh Mangoes 7 Pieces ( 8-10 lbs)\n",
            "Price: $25.82\n",
            "---\n",
            "Product Name: Mangoes | Best Value | 6 Packs Spicy - Mango Pica-Chamoy\n",
            "Price: $10.20\n",
            "---\n",
            "Product Name: Great Value Mango Chunks - 16 oz\n",
            "Price: $3.32\n",
            "---\n",
            "Product Name: Fresh Cut Mango 16 oz\n",
            "Price: $8.82\n",
            "---\n",
            "Product Name: Subhlaxmi GROCERS Ataulfo Mango - Mexican Mangoes\n",
            "Price: $55.98\n",
            "---\n",
            "Product Name: Dulces Colibri Mangoes | Best Value | 6 Packs, Size: 1.5\n",
            "Price: $10.20\n",
            "---\n",
            "Product Name: Member's Mark Mangos, 24 oz\n",
            "Price: $27.70\n",
            "---\n",
            "Product Name: Dole Mango Slices - 15.5 oz\n",
            "Price: $2.19\n",
            "---\n",
            "Product Name: Freshness Guaranteed Mango Spears 16 oz, Size: 21.5 fl oz\n",
            "Price: $5.48\n",
            "---\n",
            "Product Name: Fresh Mango 7-12 Count\n",
            "Price: $24.99\n",
            "---\n",
            "Product Name: Mangoes 1 mango\n",
            "Price: $1.99\n",
            "---\n",
            "Product Name: Mingolo Mango Box Large (16 Pounds)\n",
            "Price: $129.00\n",
            "---\n",
            "Product Name: Savor Brands Mango Pieces, 30 Pound -- 1 Each\n",
            "Price: $145.49\n",
            "---\n",
            "Product Name: Philippine Brand Dried Mangoes - 30 oz\n",
            "Price: $29.54\n",
            "---\n",
            "Product Name: Mangoes | Best Value | 6 Packs Mild - Mango Tamarindo\n",
            "Price: $10.20\n",
            "---\n",
            "Product Name: Fresh Mangoes - Ugandan - per kg.\n",
            "Price: $0.94\n",
            "---\n",
            "Product Name: Large Fresh Premium Mango Fruits, Actual Fruits, Fresh Sweet Mango, Mango Fruits\n",
            "Price: $40.00\n",
            "---\n",
            "Product Name: Light Honey Mangoes, Fresh Fruit, Gifts by Harry & David\n",
            "Price: $34.99\n",
            "---\n",
            "Product Name: Manila Mangoes (4 Count)\n",
            "Price: $11.99\n",
            "---\n",
            "Product Name: Mallika - Large (6-8 lbs** or 6-12 mangos*) - 05/15/2023\n",
            "Price: $99.99\n",
            "---\n",
            "Product Name: Mibo Cut Mango - 24 oz\n",
            "Price: $11.42\n",
            "---\n",
            "Product Name: Kirkland Signature Organic Dried Mangoes, 40 Ounce\n",
            "Price: $35.12\n",
            "---\n",
            "Product Name: Dole Individual Quick Frozen Chunk Mango, 5 Pound 2 per Case.\n",
            "Price: $86.28\n",
            "---\n",
            "Product Name: Del Monte Diced Mangoes Fruit Cups, 4.4 Ounce (Pack of 24)\n",
            "Price: $17.94\n",
            "---\n",
            "Product Name: Indian Mangoes grown in USA\n",
            "Price: $60.00\n",
            "---\n",
            "Product Name: Mangifera Indica / Mangoes Rapoza - Rainbow Mango Fruits - 1 Fresh\n",
            "Price: $15.78\n",
            "---\n",
            "Product Name: H-E-B Fresh Cut Mango & Mixed Fruit 24 oz\n",
            "Price: $10.38\n",
            "---\n",
            "Product Name: Philippine Brand Naturally Delicious Dried Mangoes Tree Ripened Value Bag 1pack ...\n",
            "Price: $32.15\n",
            "---\n",
            "Product Name: Fresh Mango (One Piece) (Anbeh)\n",
            "Price: $3.99\n",
            "---\n",
            "Product Name: Mariani Mango, Philippine - 4 oz\n",
            "Price: $5.35\n",
            "---\n",
            "Product Name: Freshness Guaranteed Mango Chunks, 10 oz, Yellow\n",
            "Price: $3.97\n",
            "---\n",
            "Product Name: Woodstock Farms Organic Mango, 5 Pound -- 4 per case.\n",
            "Price: $116.95\n",
            "---\n",
            "Product Name: Southern Mangos from The Fruit Company\n",
            "Price: $59.00\n",
            "---\n",
            "Product Name: Langra - Large (6-8 lbs** or 6-12 mangos*) - 07/10/2023\n",
            "Price: $99.99\n",
            "---\n",
            "Product Name: Pre-Order Mothers Day Sale Florida Mangoes\n",
            "Price: $50.00\n",
            "---\n",
            "Product Name: Organic Mangoes, Fresh Fruit, Gifts by Harry & David\n",
            "Price: $54.99\n",
            "---\n",
            "Product Name: 30 lb. IQF Chunks of Organic Mangoes\n",
            "Price: $72.49\n",
            "---\n",
            "Product Name: Azure Market Produce Organic Mango, 10 lb\n",
            "Price: $24.95\n",
            "---\n",
            "Product Name: Fresh Nam Doc MAI Mangos Regular Box (8 Pounds)\n",
            "Price: $109.00\n",
            "---\n",
            "Product Name: Dried Mango Slices 100% Natural No Sugar\n",
            "Price: $11.49\n",
            "---\n",
            "Product Name: Mango Tree (Sindhu, Grafted, Seedless) - Plant\n",
            "Price: $4.66\n",
            "---\n",
            "Product Name: H-E-B Fresh Cut Mango & Kiwi - Small lb\n",
            "Price: $7.99\n",
            "---\n",
            "Product Name: Honey Mangoes, Fresh Fruit, Gifts by Harry & David\n",
            "Price: $49.99\n",
            "---\n",
            "Product Name: Box of Exotic Mangoes - Special Box (6-9 lbs** ) about 6-12 fruits - 2023 Season\n",
            "Price: $94.99\n",
            "---\n",
            "Product Name: 10-11Lbs Tropical Mango Variety Box / All Natural Mangos *Actual Fruit* Overnight ...\n",
            "Price: $99.99\n",
            "---\n",
            "Product Name: Condo Mango Tree, 3Gal Indoor/Outdoor Fruit Tree- Flavorful Mangoes, Indoors or ...\n",
            "Price: $99.95\n",
            "---\n",
            "Product Name: Organic mango 1 Pack\n",
            "Price: $15.99\n",
            "---\n",
            "Product Name: Mingolo Mango Large Box (14-16 lbs)\n",
            "Price: $90.00\n",
            "---\n",
            "Product Name: Frozen Mango Fruit Chunks - 12oz - Good & Gather\n",
            "Price: $3.19\n",
            "---\n",
            "Product Name: Fresh Mango (4 Lbs) The Actual Fruit\n",
            "Price: $44.75\n",
            "---\n",
            "Product Name: Amazonas Mango Verde - 32 oz\n",
            "Price: $5.49\n",
            "---\n"
          ]
        }
      ]
    },
    {
      "cell_type": "code",
      "source": [
        "!pip install mysql.connector"
      ],
      "metadata": {
        "colab": {
          "base_uri": "https://localhost:8080/"
        },
        "id": "W2KEz_SANKug",
        "outputId": "b13e760e-4d1e-4881-b76f-806f203782de"
      },
      "id": "W2KEz_SANKug",
      "execution_count": 9,
      "outputs": [
        {
          "output_type": "stream",
          "name": "stdout",
          "text": [
            "Looking in indexes: https://pypi.org/simple, https://us-python.pkg.dev/colab-wheels/public/simple/\n",
            "Collecting mysql.connector\n",
            "  Downloading mysql-connector-2.2.9.tar.gz (11.9 MB)\n",
            "\u001b[2K     \u001b[90m━━━━━━━━━━━━━━━━━━━━━━━━━━━━━━━━━━━━━━━━\u001b[0m \u001b[32m11.9/11.9 MB\u001b[0m \u001b[31m55.1 MB/s\u001b[0m eta \u001b[36m0:00:00\u001b[0m\n",
            "\u001b[?25h  Preparing metadata (setup.py) ... \u001b[?25l\u001b[?25hdone\n",
            "Building wheels for collected packages: mysql.connector\n",
            "  Building wheel for mysql.connector (setup.py) ... \u001b[?25l\u001b[?25hdone\n",
            "  Created wheel for mysql.connector: filename=mysql_connector-2.2.9-cp310-cp310-linux_x86_64.whl size=247953 sha256=e64d1437356108a34be57d0f29ebcf3c77597a5e9783bd1fdc26bdd32095fd9b\n",
            "  Stored in directory: /root/.cache/pip/wheels/76/48/9b/da67ff1a18fe8e9d428f9b1a177716d4a7d363d2bbe83bf6cf\n",
            "Successfully built mysql.connector\n",
            "Installing collected packages: mysql.connector\n",
            "Successfully installed mysql.connector-2.2.9\n"
          ]
        }
      ]
    },
    {
      "cell_type": "code",
      "source": [
        "# Connect to DiscountMate Database\n",
        "\n",
        "import mysql.connector as msql\n",
        "from mysql.connector import Error\n",
        "\n",
        "conn = msql.connect(host='34.129.54.95', \n",
        "                    user='oscar',\n",
        "                    password='p@ssword0501')\n",
        "\n",
        "cursor = conn.cursor()\n",
        "print(\"Database is connected\")\n",
        "cursor.execute(\"use dcmdb\")\n",
        "print(\"Connected to dcmdb\")"
      ],
      "metadata": {
        "colab": {
          "base_uri": "https://localhost:8080/"
        },
        "id": "BOOiFIVHMAoE",
        "outputId": "d062ff80-c9a1-4bf5-f08f-b999782b516d"
      },
      "id": "BOOiFIVHMAoE",
      "execution_count": 10,
      "outputs": [
        {
          "output_type": "stream",
          "name": "stdout",
          "text": [
            "Database is connected\n",
            "Connected to dcmdb\n"
          ]
        }
      ]
    },
    {
      "cell_type": "code",
      "source": [
        "if prices is not None:\n",
        "    for product in prices:\n",
        "        API_ITEM_NAME = str(product['name'])\n",
        "        # Replace ' to '' in the product name for the generation of insertion SQL to database \n",
        "        API_ITEM_NAME = API_ITEM_NAME.replace(\"'\",\"''\")\n",
        "        API_ITEM_PRICE = str(product['price'])\n",
        "        cursor.execute(\"\"\"\n",
        "                        INSERT INTO STAGING_API_ITEM_PRICE (\n",
        "                        COMPANY_NAME,\n",
        "                        ITEM_NAME,\n",
        "                        ITEM_PRICE,\n",
        "                        REC_INSERT_DATE\n",
        "                        )\n",
        "                        VALUES (\n",
        "                        NULL,\n",
        "                        \\'\"\"\" + API_ITEM_NAME + \"\"\"\\',\n",
        "                        \\'\"\"\" + API_ITEM_PRICE + \"\"\"\\',\n",
        "                        CURDATE()                     \n",
        "                        )\n",
        "                        \"\"\")\n",
        "        print(\"Insert into STAGING_API_ITEM_PRICE. Item Name: \" + API_ITEM_NAME + \" | Price: \" + API_ITEM_PRICE)\n",
        "        conn.commit()\n",
        "else:\n",
        "    print('Failed to fetch prices.')"
      ],
      "metadata": {
        "colab": {
          "base_uri": "https://localhost:8080/"
        },
        "id": "E-xc8qJfNR8o",
        "outputId": "068300c9-a993-45d8-a249-5f6e245a9a75"
      },
      "id": "E-xc8qJfNR8o",
      "execution_count": 14,
      "outputs": [
        {
          "output_type": "stream",
          "name": "stdout",
          "text": [
            "Insert into STAGING_API_ITEM_PRICE. Item Name: Fresh Baby Green Mangos 2.2 lb Bag | Price: $6.22\n",
            "Insert into STAGING_API_ITEM_PRICE. Item Name: Fresh Kent Mangoes (9 lbs) | Price: $32.99\n",
            "Insert into STAGING_API_ITEM_PRICE. Item Name: Fresh Mango Fruit, Size: One Size | Price: $0.99\n",
            "Insert into STAGING_API_ITEM_PRICE. Item Name: Fresh Produce Mangoes, 1 Each, Size: 1 lbs, Orange | Price: $0.88\n",
            "Insert into STAGING_API_ITEM_PRICE. Item Name: Mango Fresh ( 5 kgs ie, 12-15 big size Mangos) | Price: $40.50\n",
            "Insert into STAGING_API_ITEM_PRICE. Item Name: Tropical Mango Box - Order Your Fresh Tropical Mangos Online from Tropical Fruit Box | Price: $88.00\n",
            "Insert into STAGING_API_ITEM_PRICE. Item Name: Fresh Champagne Mangoes (Golden Atulfo) - 5 Pounds | Price: $36.95\n",
            "Insert into STAGING_API_ITEM_PRICE. Item Name: Del Monte Mangos, in Light Syrup, Diced - 15 oz | Price: $3.95\n",
            "Insert into STAGING_API_ITEM_PRICE. Item Name: 8 Selected Sweet and Juicy Fresh Large Mango Fruit - 9 lb Pounds | Price: $43.69\n",
            "Insert into STAGING_API_ITEM_PRICE. Item Name: GreatPlentiFulShop Fresh Mangoes 7 Pieces ( 8-10 lbs) | Price: $25.82\n",
            "Insert into STAGING_API_ITEM_PRICE. Item Name: Mangoes | Best Value | 6 Packs Spicy - Mango Pica-Chamoy | Price: $10.20\n",
            "Insert into STAGING_API_ITEM_PRICE. Item Name: Great Value Mango Chunks - 16 oz | Price: $3.32\n",
            "Insert into STAGING_API_ITEM_PRICE. Item Name: Fresh Cut Mango 16 oz | Price: $8.82\n",
            "Insert into STAGING_API_ITEM_PRICE. Item Name: Subhlaxmi GROCERS Ataulfo Mango - Mexican Mangoes | Price: $55.98\n",
            "Insert into STAGING_API_ITEM_PRICE. Item Name: Dulces Colibri Mangoes | Best Value | 6 Packs, Size: 1.5 | Price: $10.20\n",
            "Insert into STAGING_API_ITEM_PRICE. Item Name: Member''s Mark Mangos, 24 oz | Price: $27.70\n",
            "Insert into STAGING_API_ITEM_PRICE. Item Name: Dole Mango Slices - 15.5 oz | Price: $2.19\n",
            "Insert into STAGING_API_ITEM_PRICE. Item Name: Freshness Guaranteed Mango Spears 16 oz, Size: 21.5 fl oz | Price: $5.48\n",
            "Insert into STAGING_API_ITEM_PRICE. Item Name: Fresh Mango 7-12 Count | Price: $24.99\n",
            "Insert into STAGING_API_ITEM_PRICE. Item Name: Mangoes 1 mango | Price: $1.99\n",
            "Insert into STAGING_API_ITEM_PRICE. Item Name: Mingolo Mango Box Large (16 Pounds) | Price: $129.00\n",
            "Insert into STAGING_API_ITEM_PRICE. Item Name: Savor Brands Mango Pieces, 30 Pound -- 1 Each | Price: $145.49\n",
            "Insert into STAGING_API_ITEM_PRICE. Item Name: Philippine Brand Dried Mangoes - 30 oz | Price: $29.54\n",
            "Insert into STAGING_API_ITEM_PRICE. Item Name: Mangoes | Best Value | 6 Packs Mild - Mango Tamarindo | Price: $10.20\n",
            "Insert into STAGING_API_ITEM_PRICE. Item Name: Fresh Mangoes - Ugandan - per kg. | Price: $0.94\n",
            "Insert into STAGING_API_ITEM_PRICE. Item Name: Large Fresh Premium Mango Fruits, Actual Fruits, Fresh Sweet Mango, Mango Fruits | Price: $40.00\n",
            "Insert into STAGING_API_ITEM_PRICE. Item Name: Light Honey Mangoes, Fresh Fruit, Gifts by Harry & David | Price: $34.99\n",
            "Insert into STAGING_API_ITEM_PRICE. Item Name: Manila Mangoes (4 Count) | Price: $11.99\n",
            "Insert into STAGING_API_ITEM_PRICE. Item Name: Mallika - Large (6-8 lbs** or 6-12 mangos*) - 05/15/2023 | Price: $99.99\n",
            "Insert into STAGING_API_ITEM_PRICE. Item Name: Mibo Cut Mango - 24 oz | Price: $11.42\n",
            "Insert into STAGING_API_ITEM_PRICE. Item Name: Kirkland Signature Organic Dried Mangoes, 40 Ounce | Price: $35.12\n",
            "Insert into STAGING_API_ITEM_PRICE. Item Name: Dole Individual Quick Frozen Chunk Mango, 5 Pound 2 per Case. | Price: $86.28\n",
            "Insert into STAGING_API_ITEM_PRICE. Item Name: Del Monte Diced Mangoes Fruit Cups, 4.4 Ounce (Pack of 24) | Price: $17.94\n",
            "Insert into STAGING_API_ITEM_PRICE. Item Name: Indian Mangoes grown in USA | Price: $60.00\n",
            "Insert into STAGING_API_ITEM_PRICE. Item Name: Mangifera Indica / Mangoes Rapoza - Rainbow Mango Fruits - 1 Fresh | Price: $15.78\n",
            "Insert into STAGING_API_ITEM_PRICE. Item Name: H-E-B Fresh Cut Mango & Mixed Fruit 24 oz | Price: $10.38\n",
            "Insert into STAGING_API_ITEM_PRICE. Item Name: Philippine Brand Naturally Delicious Dried Mangoes Tree Ripened Value Bag 1pack ... | Price: $32.15\n",
            "Insert into STAGING_API_ITEM_PRICE. Item Name: Fresh Mango (One Piece) (Anbeh) | Price: $3.99\n",
            "Insert into STAGING_API_ITEM_PRICE. Item Name: Mariani Mango, Philippine - 4 oz | Price: $5.35\n",
            "Insert into STAGING_API_ITEM_PRICE. Item Name: Freshness Guaranteed Mango Chunks, 10 oz, Yellow | Price: $3.97\n",
            "Insert into STAGING_API_ITEM_PRICE. Item Name: Woodstock Farms Organic Mango, 5 Pound -- 4 per case. | Price: $116.95\n",
            "Insert into STAGING_API_ITEM_PRICE. Item Name: Southern Mangos from The Fruit Company | Price: $59.00\n",
            "Insert into STAGING_API_ITEM_PRICE. Item Name: Langra - Large (6-8 lbs** or 6-12 mangos*) - 07/10/2023 | Price: $99.99\n",
            "Insert into STAGING_API_ITEM_PRICE. Item Name: Pre-Order Mothers Day Sale Florida Mangoes | Price: $50.00\n",
            "Insert into STAGING_API_ITEM_PRICE. Item Name: Organic Mangoes, Fresh Fruit, Gifts by Harry & David | Price: $54.99\n",
            "Insert into STAGING_API_ITEM_PRICE. Item Name: 30 lb. IQF Chunks of Organic Mangoes | Price: $72.49\n",
            "Insert into STAGING_API_ITEM_PRICE. Item Name: Azure Market Produce Organic Mango, 10 lb | Price: $24.95\n",
            "Insert into STAGING_API_ITEM_PRICE. Item Name: Fresh Nam Doc MAI Mangos Regular Box (8 Pounds) | Price: $109.00\n",
            "Insert into STAGING_API_ITEM_PRICE. Item Name: Dried Mango Slices 100% Natural No Sugar | Price: $11.49\n",
            "Insert into STAGING_API_ITEM_PRICE. Item Name: Mango Tree (Sindhu, Grafted, Seedless) - Plant | Price: $4.66\n",
            "Insert into STAGING_API_ITEM_PRICE. Item Name: H-E-B Fresh Cut Mango & Kiwi - Small lb | Price: $7.99\n",
            "Insert into STAGING_API_ITEM_PRICE. Item Name: Honey Mangoes, Fresh Fruit, Gifts by Harry & David | Price: $49.99\n",
            "Insert into STAGING_API_ITEM_PRICE. Item Name: Box of Exotic Mangoes - Special Box (6-9 lbs** ) about 6-12 fruits - 2023 Season | Price: $94.99\n",
            "Insert into STAGING_API_ITEM_PRICE. Item Name: 10-11Lbs Tropical Mango Variety Box / All Natural Mangos *Actual Fruit* Overnight ... | Price: $99.99\n",
            "Insert into STAGING_API_ITEM_PRICE. Item Name: Condo Mango Tree, 3Gal Indoor/Outdoor Fruit Tree- Flavorful Mangoes, Indoors or ... | Price: $99.95\n",
            "Insert into STAGING_API_ITEM_PRICE. Item Name: Organic mango 1 Pack | Price: $15.99\n",
            "Insert into STAGING_API_ITEM_PRICE. Item Name: Mingolo Mango Large Box (14-16 lbs) | Price: $90.00\n",
            "Insert into STAGING_API_ITEM_PRICE. Item Name: Frozen Mango Fruit Chunks - 12oz - Good & Gather | Price: $3.19\n",
            "Insert into STAGING_API_ITEM_PRICE. Item Name: Fresh Mango (4 Lbs) The Actual Fruit | Price: $44.75\n",
            "Insert into STAGING_API_ITEM_PRICE. Item Name: Amazonas Mango Verde - 32 oz | Price: $5.49\n"
          ]
        }
      ]
    },
    {
      "cell_type": "code",
      "source": [
        "conn.close()\n",
        "print('Closed connection to DiscountMate database')"
      ],
      "metadata": {
        "colab": {
          "base_uri": "https://localhost:8080/"
        },
        "id": "HBPtWADrTI6X",
        "outputId": "d296e54e-69ff-426c-b90f-d003169e8c02"
      },
      "id": "HBPtWADrTI6X",
      "execution_count": 15,
      "outputs": [
        {
          "output_type": "stream",
          "name": "stdout",
          "text": [
            "Closed connection to DiscountMate database\n"
          ]
        }
      ]
    }
  ],
  "metadata": {
    "kernelspec": {
      "display_name": "Python 3 (ipykernel)",
      "language": "python",
      "name": "python3"
    },
    "language_info": {
      "codemirror_mode": {
        "name": "ipython",
        "version": 3
      },
      "file_extension": ".py",
      "mimetype": "text/x-python",
      "name": "python",
      "nbconvert_exporter": "python",
      "pygments_lexer": "ipython3",
      "version": "3.9.7"
    },
    "colab": {
      "provenance": []
    }
  },
  "nbformat": 4,
  "nbformat_minor": 5
}